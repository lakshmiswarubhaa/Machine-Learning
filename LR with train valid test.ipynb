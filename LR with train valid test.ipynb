{
  "nbformat": 4,
  "nbformat_minor": 0,
  "metadata": {
    "colab": {
      "provenance": [],
      "mount_file_id": "1ASDn19xkv7JCpNydDp30KfpIolwXLmt_",
      "authorship_tag": "ABX9TyPzbghTSSnBDEy+u+3A6MaM",
      "include_colab_link": true
    },
    "kernelspec": {
      "name": "python3",
      "display_name": "Python 3"
    },
    "language_info": {
      "name": "python"
    }
  },
  "cells": [
    {
      "cell_type": "markdown",
      "metadata": {
        "id": "view-in-github",
        "colab_type": "text"
      },
      "source": [
        "<a href=\"https://colab.research.google.com/github/lakshmiswarubhaa/Machine-Learning/blob/main/LR%20with%20train%20valid%20test.ipynb\" target=\"_parent\"><img src=\"https://colab.research.google.com/assets/colab-badge.svg\" alt=\"Open In Colab\"/></a>"
      ]
    },
    {
      "cell_type": "code",
      "execution_count": 1,
      "metadata": {
        "id": "ul2WmDy7pPhM"
      },
      "outputs": [],
      "source": [
        "import pandas as pd\n",
        "import numpy as np\n",
        "from sklearn.model_selection import train_test_split"
      ]
    },
    {
      "cell_type": "code",
      "source": [
        "df = pd.read_csv('/content/drive/MyDrive/python/lung_cancer.csv')"
      ],
      "metadata": {
        "id": "-U9MZDHHrMTi"
      },
      "execution_count": 2,
      "outputs": []
    },
    {
      "cell_type": "code",
      "source": [
        "df.drop(\"Patient Id\", axis=1, inplace=True)"
      ],
      "metadata": {
        "id": "R8PeJLjXrtvX"
      },
      "execution_count": 3,
      "outputs": []
    },
    {
      "cell_type": "code",
      "source": [
        "# Cleaning Column Names\n",
        "df.columns = df.columns.str.strip()\n",
        "df.columns = df.columns.str.lower()\n",
        "df.columns = df.columns.str.replace(\" \", \"_\")"
      ],
      "metadata": {
        "id": "BnYrgiHlruwP"
      },
      "execution_count": 4,
      "outputs": []
    },
    {
      "cell_type": "code",
      "source": [
        "df['smoking'].fillna(df['smoking'].median(),inplace=True)"
      ],
      "metadata": {
        "id": "vkqXF4gvtDt_"
      },
      "execution_count": 5,
      "outputs": []
    },
    {
      "cell_type": "code",
      "source": [
        "# Replacing levels with int\n",
        "df[\"level\"].replace({'High': 2, 'Medium': 1, 'Low': 0}, inplace=True)\n",
        "print('Cancer Levels: ', df['level'].unique())"
      ],
      "metadata": {
        "colab": {
          "base_uri": "https://localhost:8080/"
        },
        "id": "H35FnIlftG0u",
        "outputId": "72c34978-0357-41de-f9d2-00c08b35291d"
      },
      "execution_count": 6,
      "outputs": [
        {
          "output_type": "stream",
          "name": "stdout",
          "text": [
            "Cancer Levels:  [0 1 2]\n"
          ]
        }
      ]
    },
    {
      "cell_type": "code",
      "source": [
        "# Setting Target\n",
        "\n",
        "X = df.drop(columns='level')\n",
        "y = df.level"
      ],
      "metadata": {
        "id": "sdvuwL1ftJG9"
      },
      "execution_count": 7,
      "outputs": []
    },
    {
      "cell_type": "code",
      "source": [
        "X_train, X_valid_test, y_train, y_valid_test = train_test_split(X, y, test_size=0.3)"
      ],
      "metadata": {
        "id": "TKNp__-xtOee"
      },
      "execution_count": 8,
      "outputs": []
    },
    {
      "cell_type": "code",
      "source": [
        "X_valid, X_test, y_valid, y_test = train_test_split(X_valid_test, y_valid_test, test_size=0.5)"
      ],
      "metadata": {
        "id": "aBpoEi9QtnHH"
      },
      "execution_count": 9,
      "outputs": []
    },
    {
      "cell_type": "code",
      "source": [
        "print(len(X_train), len(X_valid), len(X_test))"
      ],
      "metadata": {
        "colab": {
          "base_uri": "https://localhost:8080/"
        },
        "id": "0nxAMZ9Xt1n0",
        "outputId": "c64ee8bd-2fa1-471b-8c60-250f22f4149d"
      },
      "execution_count": 10,
      "outputs": [
        {
          "output_type": "stream",
          "name": "stdout",
          "text": [
            "700 150 150\n"
          ]
        }
      ]
    },
    {
      "cell_type": "code",
      "source": [
        "print(len(y_train), len(y_valid), len(y_test))"
      ],
      "metadata": {
        "colab": {
          "base_uri": "https://localhost:8080/"
        },
        "id": "T_lvwk1xvvom",
        "outputId": "d4baa78b-64aa-4045-ab5f-56ee93be9a56"
      },
      "execution_count": 11,
      "outputs": [
        {
          "output_type": "stream",
          "name": "stdout",
          "text": [
            "700 150 150\n"
          ]
        }
      ]
    },
    {
      "cell_type": "code",
      "source": [
        "# Logistic Regression\n",
        "from sklearn.linear_model import LogisticRegression\n",
        "\n",
        "logreg = LogisticRegression(C=24)\n",
        "\n",
        "logreg.fit(X_train, y_train)\n",
        "\n",
        "y_predict1 = logreg.predict(X_valid)"
      ],
      "metadata": {
        "colab": {
          "base_uri": "https://localhost:8080/"
        },
        "id": "li6Ow6T8t9NG",
        "outputId": "e5328fd5-b829-4246-9a5b-e3b1bdc4f825"
      },
      "execution_count": 12,
      "outputs": [
        {
          "output_type": "stream",
          "name": "stderr",
          "text": [
            "/usr/local/lib/python3.9/dist-packages/sklearn/linear_model/_logistic.py:458: ConvergenceWarning: lbfgs failed to converge (status=1):\n",
            "STOP: TOTAL NO. of ITERATIONS REACHED LIMIT.\n",
            "\n",
            "Increase the number of iterations (max_iter) or scale the data as shown in:\n",
            "    https://scikit-learn.org/stable/modules/preprocessing.html\n",
            "Please also refer to the documentation for alternative solver options:\n",
            "    https://scikit-learn.org/stable/modules/linear_model.html#logistic-regression\n",
            "  n_iter_i = _check_optimize_result(\n"
          ]
        }
      ]
    },
    {
      "cell_type": "code",
      "source": [
        "from sklearn.metrics import classification_report\n",
        "print(classification_report(y_valid, y_predict1))"
      ],
      "metadata": {
        "colab": {
          "base_uri": "https://localhost:8080/"
        },
        "id": "CzdQRKvYwJUp",
        "outputId": "ae416aaa-84b0-4f63-d4e0-88da4223e803"
      },
      "execution_count": 13,
      "outputs": [
        {
          "output_type": "stream",
          "name": "stdout",
          "text": [
            "              precision    recall  f1-score   support\n",
            "\n",
            "           0       0.97      0.73      0.84        52\n",
            "           1       0.80      0.96      0.87        50\n",
            "           2       0.92      0.98      0.95        48\n",
            "\n",
            "    accuracy                           0.89       150\n",
            "   macro avg       0.90      0.89      0.89       150\n",
            "weighted avg       0.90      0.89      0.88       150\n",
            "\n"
          ]
        }
      ]
    },
    {
      "cell_type": "code",
      "source": [
        "y_predict2 = logreg.predict(X_test)"
      ],
      "metadata": {
        "id": "-4o5UMqZw1cP"
      },
      "execution_count": 14,
      "outputs": []
    },
    {
      "cell_type": "code",
      "source": [
        "print(classification_report(y_test, y_predict2))"
      ],
      "metadata": {
        "colab": {
          "base_uri": "https://localhost:8080/"
        },
        "id": "5y4_VNhVxUYp",
        "outputId": "23109078-49cb-42fd-dc49-f16b3cbfa49f"
      },
      "execution_count": 15,
      "outputs": [
        {
          "output_type": "stream",
          "name": "stdout",
          "text": [
            "              precision    recall  f1-score   support\n",
            "\n",
            "           0       0.94      0.79      0.86        42\n",
            "           1       0.85      0.91      0.88        56\n",
            "           2       0.93      0.98      0.95        52\n",
            "\n",
            "    accuracy                           0.90       150\n",
            "   macro avg       0.91      0.89      0.90       150\n",
            "weighted avg       0.90      0.90      0.90       150\n",
            "\n"
          ]
        }
      ]
    }
  ]
}